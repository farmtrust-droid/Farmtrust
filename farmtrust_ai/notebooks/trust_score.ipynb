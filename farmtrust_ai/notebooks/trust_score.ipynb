{
 "cells": [
  {
   "cell_type": "code",
   "execution_count": 2,
   "id": "529a6169",
   "metadata": {},
   "outputs": [
    {
     "name": "stdout",
     "output_type": "stream",
     "text": [
      "Model Accuracy: 0.42\n",
      "✅ Model saved as models/trust_model.pkl\n"
     ]
    }
   ],
   "source": [
    "# --- Trust Score Model Training ---\n",
    "import pandas as pd\n",
    "import numpy as np\n",
    "from sklearn.model_selection import train_test_split\n",
    "from sklearn.ensemble import RandomForestClassifier\n",
    "import joblib\n",
    "\n",
    "# 🔹 Synthetic dataset (replace with real data later)\n",
    "# Example: trust depends on delivery_rate, rating, transactions\n",
    "data = {\n",
    "    \"delivery_rate\": np.random.uniform(60, 100, 200),  # % deliveries on time\n",
    "    \"rating\": np.random.uniform(1, 5, 200),            # buyer rating\n",
    "    \"transactions\": np.random.randint(5, 100, 200),    # total completed\n",
    "    \"trustworthy\": np.random.randint(0, 2, 200)        # 1 = trusted, 0 = not\n",
    "}\n",
    "df = pd.DataFrame(data)\n",
    "\n",
    "# Features and target\n",
    "X = df[[\"delivery_rate\", \"rating\", \"transactions\"]]\n",
    "y = df[\"trustworthy\"]\n",
    "\n",
    "# Train/test split\n",
    "X_train, X_test, y_train, y_test = train_test_split(X, y, test_size=0.2, random_state=42)\n",
    "\n",
    "# Train model\n",
    "model = RandomForestClassifier(n_estimators=100, random_state=42)\n",
    "model.fit(X_train, y_train)\n",
    "\n",
    "# Evaluate\n",
    "score = model.score(X_test, y_test)\n",
    "print(f\"Model Accuracy: {score:.2f}\")\n",
    "\n",
    "# Save trained model\n",
    "joblib.dump(model, \"../models/trust_model.pkl\")\n",
    "print(\"✅ Model saved as models/trust_model.pkl\")\n",
    "\n"
   ]
  }
 ],
 "metadata": {
  "kernelspec": {
   "display_name": "Python (farmtrust_ai)",
   "language": "python",
   "name": "farmtrust_ai"
  },
  "language_info": {
   "codemirror_mode": {
    "name": "ipython",
    "version": 3
   },
   "file_extension": ".py",
   "mimetype": "text/x-python",
   "name": "python",
   "nbconvert_exporter": "python",
   "pygments_lexer": "ipython3",
   "version": "3.12.3"
  }
 },
 "nbformat": 4,
 "nbformat_minor": 5
}
