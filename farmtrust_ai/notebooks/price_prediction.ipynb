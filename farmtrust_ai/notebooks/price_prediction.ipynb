{
 "cells": [
  {
   "cell_type": "code",
   "execution_count": 1,
   "id": "2e4e42ff",
   "metadata": {},
   "outputs": [
    {
     "name": "stdout",
     "output_type": "stream",
     "text": [
      "Model R² score: -0.01\n",
      "✅ Model saved as models/price_model.pkl\n"
     ]
    }
   ],
   "source": [
    "# --- Price Prediction Model Training ---\n",
    "import pandas as pd\n",
    "import numpy as np\n",
    "from sklearn.model_selection import train_test_split\n",
    "from sklearn.linear_model import LinearRegression\n",
    "import joblib\n",
    "\n",
    "# 🔹 Example synthetic dataset (replace with real data later)\n",
    "data = {\n",
    "    \"quantity\": np.random.randint(10, 100, 200),\n",
    "    \"description_length\": np.random.randint(20, 300, 200),\n",
    "    \"price\": np.random.randint(50, 300, 200)\n",
    "}\n",
    "df = pd.DataFrame(data)\n",
    "\n",
    "# Features and target\n",
    "X = df[[\"quantity\", \"description_length\"]]\n",
    "y = df[\"price\"]\n",
    "\n",
    "# Train/test split\n",
    "X_train, X_test, y_train, y_test = train_test_split(X, y, test_size=0.2, random_state=42)\n",
    "\n",
    "# Train model\n",
    "model = LinearRegression()\n",
    "model.fit(X_train, y_train)\n",
    "\n",
    "# Evaluate\n",
    "score = model.score(X_test, y_test)\n",
    "print(f\"Model R² score: {score:.2f}\")\n",
    "\n",
    "# Save trained model\n",
    "joblib.dump(model, \"../models/price_model.pkl\")\n",
    "print(\"✅ Model saved as models/price_model.pkl\")\n"
   ]
  }
 ],
 "metadata": {
  "kernelspec": {
   "display_name": "Python (farmtrust_ai)",
   "language": "python",
   "name": "farmtrust_ai"
  },
  "language_info": {
   "codemirror_mode": {
    "name": "ipython",
    "version": 3
   },
   "file_extension": ".py",
   "mimetype": "text/x-python",
   "name": "python",
   "nbconvert_exporter": "python",
   "pygments_lexer": "ipython3",
   "version": "3.12.3"
  }
 },
 "nbformat": 4,
 "nbformat_minor": 5
}
